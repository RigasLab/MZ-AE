{
 "cells": [
  {
   "cell_type": "code",
   "execution_count": 4,
   "metadata": {},
   "outputs": [],
   "source": [
    "import torch\n",
    "from torch.utils.data import Dataset, DataLoader\n",
    "from utils.PreProc_Data.DataProc import StackedSequenceDataset\n",
    "import numpy as np"
   ]
  },
  {
   "cell_type": "code",
   "execution_count": 2,
   "metadata": {},
   "outputs": [],
   "source": [
    "if torch.cuda.is_available():\n",
    "    device = torch.device(\"cuda\")\n",
    "elif torch.backends.mps.is_available():\n",
    "    device = torch.device(\"mps\") \n",
    "else:\n",
    "    device = torch.device(\"cpu\")"
   ]
  },
  {
   "cell_type": "code",
   "execution_count": 3,
   "metadata": {},
   "outputs": [
    {
     "data": {
      "text/plain": [
       "(441, 120, 2)"
      ]
     },
     "execution_count": 3,
     "metadata": {},
     "output_type": "execute_result"
    }
   ],
   "source": [
    "data = np.load(\"Data/Duffing/duffing.npy\")\n",
    "data = data[:,:,:2]\n",
    "# data = np.einsum('ijk->jki',data)\n",
    "data.shape\n"
   ]
  },
  {
   "cell_type": "code",
   "execution_count": 6,
   "metadata": {},
   "outputs": [
    {
     "name": "stdout",
     "output_type": "stream",
     "text": [
      "torch.Size([5, 2])\n",
      "torch.Size([2])\n",
      "52920\n"
     ]
    }
   ],
   "source": [
    "dataset = StackedSequenceDataset(data, device)\n",
    "it = iter(dataset)\n",
    "Phi_seq, Phi_nn = next(it)\n",
    "print(Phi_seq.shape)\n",
    "print(Phi_nn.shape)\n",
    "print(len(dataset))"
   ]
  },
  {
   "cell_type": "code",
   "execution_count": 4,
   "metadata": {},
   "outputs": [
    {
     "name": "stderr",
     "output_type": "stream",
     "text": [
      "/usr/bin/nvidia-modprobe: unrecognized option: \"-s\"\n",
      "\n",
      "ERROR: Invalid commandline, please run `/usr/bin/nvidia-modprobe --help`\n",
      "       for usage information.\n",
      "\n",
      "/usr/bin/nvidia-modprobe: unrecognized option: \"-s\"\n",
      "\n",
      "ERROR: Invalid commandline, please run `/usr/bin/nvidia-modprobe --help`\n",
      "       for usage information.\n",
      "\n"
     ]
    }
   ],
   "source": [
    "seqdataset = SequenceDataset(data, device)\n",
    "# dataloader = DataLoader(dataset, batch_size = 16, shuffle =True)"
   ]
  },
  {
   "cell_type": "code",
   "execution_count": 6,
   "metadata": {},
   "outputs": [
    {
     "name": "stdout",
     "output_type": "stream",
     "text": [
      "torch.Size([52920, 5, 2])\n",
      "torch.Size([52920, 2])\n"
     ]
    }
   ],
   "source": [
    "it = iter(seqdataset)\n",
    "Phi_seq, Phi_nn = next(it)\n",
    "for i, data in enumerate(seqdataset):\n",
    "    if (i!=0):\n",
    "        Phi_seq = torch.cat((Phi_seq, data[0]), dim = 0)\n",
    "        Phi_nn  = torch.cat((Phi_nn, data[1]), dim = 0)\n",
    "print(Phi_seq.shape)\n",
    "print(Phi_nn.shape)\n",
    "   \n"
   ]
  },
  {
   "cell_type": "code",
   "execution_count": 7,
   "metadata": {},
   "outputs": [
    {
     "name": "stdout",
     "output_type": "stream",
     "text": [
      "torch.Size([16, 5, 2])\n",
      "torch.Size([16, 2])\n"
     ]
    }
   ],
   "source": [
    "dataloader = DataLoader(dataset, batch_size = 16, shuffle =True)\n",
    "\n",
    "it = iter(dataloader)\n",
    "Phi_seq, Phi_nn = next(it)\n",
    "print(Phi_seq.shape)\n",
    "print(Phi_nn.shape)"
   ]
  },
  {
   "cell_type": "code",
   "execution_count": null,
   "metadata": {},
   "outputs": [],
   "source": []
  }
 ],
 "metadata": {
  "kernelspec": {
   "display_name": "KS",
   "language": "python",
   "name": "python3"
  },
  "language_info": {
   "codemirror_mode": {
    "name": "ipython",
    "version": 3
   },
   "file_extension": ".py",
   "mimetype": "text/x-python",
   "name": "python",
   "nbconvert_exporter": "python",
   "pygments_lexer": "ipython3",
   "version": "3.10.9"
  },
  "orig_nbformat": 4
 },
 "nbformat": 4,
 "nbformat_minor": 2
}
