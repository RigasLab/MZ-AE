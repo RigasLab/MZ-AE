{
 "cells": [
  {
   "cell_type": "code",
   "execution_count": 1,
   "metadata": {},
   "outputs": [],
   "source": [
    "import torch\n",
    "from torch.utils.data import Dataset, DataLoader\n",
    "from src.PreProc_Data.DataProc import StackedSequenceDataset\n",
    "import numpy as np\n",
    "from src.MZA_Experiment import MZA_Experiment\n",
    "# from MZA_Experiment import MZA_Experiment"
   ]
  },
  {
   "cell_type": "code",
   "execution_count": 2,
   "metadata": {},
   "outputs": [],
   "source": [
    "if torch.cuda.is_available():\n",
    "    device = torch.device(\"cuda\")\n",
    "elif torch.backends.mps.is_available():\n",
    "    device = torch.device(\"mps\") \n",
    "else:\n",
    "    device = torch.device(\"cpu\")"
   ]
  },
  {
   "cell_type": "code",
   "execution_count": 3,
   "metadata": {},
   "outputs": [
    {
     "data": {
      "text/plain": [
       "(1, 201, 20354)"
      ]
     },
     "execution_count": 3,
     "metadata": {},
     "output_type": "execute_result"
    }
   ],
   "source": [
    "data = np.load(\"Data/2DCylinder/cyl_data_5_2.npy\")\n",
    "# data = data[:,:,:2]\n",
    "# data = np.einsum('ijk->jki',data)\n",
    "data.shape\n"
   ]
  },
  {
   "cell_type": "code",
   "execution_count": 4,
   "metadata": {},
   "outputs": [
    {
     "name": "stdout",
     "output_type": "stream",
     "text": [
      "torch.Size([5, 20354])\n",
      "torch.Size([20354])\n",
      "201\n"
     ]
    },
    {
     "ename": "",
     "evalue": "",
     "output_type": "error",
     "traceback": [
      "\u001b[1;31mThe Kernel crashed while executing code in the the current cell or a previous cell. Please review the code in the cell(s) to identify a possible cause of the failure. Click <a href='https://aka.ms/vscodeJupyterKernelCrash'>here</a> for more info. View Jupyter <a href='command:jupyter.viewOutput'>log</a> for further details."
     ]
    }
   ],
   "source": [
    "args_dict = {\"device\": device, \"seq_len\": 5}\n",
    "dataset   = StackedSequenceDataset(data, args_dict)\n",
    "it = iter(dataset)\n",
    "Phi_seq, Phi_nn = next(it)\n",
    "print(Phi_seq.shape)\n",
    "print(Phi_nn.shape)\n",
    "print(len(dataset))"
   ]
  },
  {
   "cell_type": "code",
   "execution_count": 4,
   "metadata": {},
   "outputs": [
    {
     "name": "stderr",
     "output_type": "stream",
     "text": [
      "/usr/bin/nvidia-modprobe: unrecognized option: \"-s\"\n",
      "\n",
      "ERROR: Invalid commandline, please run `/usr/bin/nvidia-modprobe --help`\n",
      "       for usage information.\n",
      "\n",
      "/usr/bin/nvidia-modprobe: unrecognized option: \"-s\"\n",
      "\n",
      "ERROR: Invalid commandline, please run `/usr/bin/nvidia-modprobe --help`\n",
      "       for usage information.\n",
      "\n"
     ]
    }
   ],
   "source": [
    "seqdataset = SequenceDataset(data, device)\n",
    "# dataloader = DataLoader(dataset, batch_size = 16, shuffle =True)"
   ]
  },
  {
   "cell_type": "code",
   "execution_count": 6,
   "metadata": {},
   "outputs": [
    {
     "name": "stdout",
     "output_type": "stream",
     "text": [
      "torch.Size([52920, 5, 2])\n",
      "torch.Size([52920, 2])\n"
     ]
    }
   ],
   "source": [
    "it = iter(seqdataset)\n",
    "Phi_seq, Phi_nn = next(it)\n",
    "for i, data in enumerate(seqdataset):\n",
    "    if (i!=0):\n",
    "        Phi_seq = torch.cat((Phi_seq, data[0]), dim = 0)\n",
    "        Phi_nn  = torch.cat((Phi_nn, data[1]), dim = 0)\n",
    "print(Phi_seq.shape)\n",
    "print(Phi_nn.shape)\n",
    "   \n"
   ]
  },
  {
   "cell_type": "code",
   "execution_count": 7,
   "metadata": {},
   "outputs": [
    {
     "name": "stdout",
     "output_type": "stream",
     "text": [
      "torch.Size([16, 5, 2])\n",
      "torch.Size([16, 2])\n"
     ]
    }
   ],
   "source": [
    "dataloader = DataLoader(dataset, batch_size = 16, shuffle =True)\n",
    "\n",
    "it = iter(dataloader)\n",
    "Phi_seq, Phi_nn = next(it)\n",
    "print(Phi_seq.shape)\n",
    "print(Phi_nn.shape)"
   ]
  },
  {
   "cell_type": "code",
   "execution_count": 1,
   "metadata": {},
   "outputs": [
    {
     "name": "stdout",
     "output_type": "stream",
     "text": [
      "<class 'dict'>\n"
     ]
    }
   ],
   "source": [
    "k = {\"a\":1,\"b\":2}\n",
    "print(type(k))"
   ]
  },
  {
   "cell_type": "code",
   "execution_count": 3,
   "metadata": {},
   "outputs": [],
   "source": [
    "from Layers.Koopman import Koopman\n"
   ]
  },
  {
   "cell_type": "code",
   "execution_count": 4,
   "metadata": {},
   "outputs": [
    {
     "data": {
      "text/plain": [
       "True"
      ]
     },
     "execution_count": 4,
     "metadata": {},
     "output_type": "execute_result"
    }
   ],
   "source": [
    "koopman = Koopman(5,device)\n",
    "koopman.kMatrixUT.requires_grad "
   ]
  },
  {
   "cell_type": "code",
   "execution_count": 5,
   "metadata": {},
   "outputs": [
    {
     "data": {
      "text/plain": [
       "15"
      ]
     },
     "execution_count": 5,
     "metadata": {},
     "output_type": "execute_result"
    }
   ],
   "source": [
    "sum(p.numel() for p in koopman.parameters())"
   ]
  },
  {
   "cell_type": "code",
   "execution_count": 6,
   "metadata": {},
   "outputs": [
    {
     "name": "stdout",
     "output_type": "stream",
     "text": [
      "Parameter containing:\n",
      "tensor([0.5097, 0.2513, 0.4220, 0.8106, 0.9658], requires_grad=True)\n",
      "Parameter containing:\n",
      "tensor([-0.0132,  0.0109, -0.0005, -0.0084, -0.0013, -0.0097,  0.0081,  0.0172,\n",
      "         0.0102, -0.0119], requires_grad=True)\n"
     ]
    }
   ],
   "source": [
    "for parameter in koopman.parameters():\n",
    "    print(parameter)"
   ]
  },
  {
   "cell_type": "code",
   "execution_count": 10,
   "metadata": {},
   "outputs": [
    {
     "name": "stdout",
     "output_type": "stream",
     "text": [
      "parameters----------\n",
      "hello\n",
      "Parameter containing:\n",
      "tensor([[ 1.8619,  1.3373, -0.2634,  0.7723,  1.2466],\n",
      "        [ 0.2350,  0.6656, -1.4673,  1.7389,  0.4045],\n",
      "        [-1.2977,  1.6807,  0.4124,  1.7424, -1.0251],\n",
      "        [ 0.3654, -0.5850,  0.5582,  1.3203,  0.2428],\n",
      "        [-0.8385,  0.9671,  0.4986,  2.4612,  0.0583],\n",
      "        [-1.0173, -1.2649,  0.8229,  1.5207, -0.7703],\n",
      "        [-2.0080,  0.1509, -0.3980, -0.3626, -0.2976],\n",
      "        [ 0.4990, -1.4490,  0.4683,  0.4888, -0.3042],\n",
      "        [ 1.6785,  0.3926,  0.0045, -1.0586,  0.1292],\n",
      "        [-0.5006,  0.5322, -0.7850,  0.3962,  0.2309]], requires_grad=True)\n",
      "hello\n"
     ]
    },
    {
     "name": "stderr",
     "output_type": "stream",
     "text": [
      "/tmp/ipykernel_324/1620742790.py:18: UserWarning: Implicit dimension choice for log_softmax has been deprecated. Change the call to include dim=X as an argument.\n",
      "  x = F.log_softmax(x)\n"
     ]
    },
    {
     "ename": "IndexError",
     "evalue": "invalid index of a 0-dim tensor. Use `tensor.item()` in Python or `tensor.item<T>()` in C++ to convert a 0-dim tensor to a number",
     "output_type": "error",
     "traceback": [
      "\u001b[0;31m---------------------------------------------------------------------------\u001b[0m",
      "\u001b[0;31mIndexError\u001b[0m                                Traceback (most recent call last)",
      "Cell \u001b[0;32mIn[10], line 40\u001b[0m\n\u001b[1;32m     38\u001b[0m     optimizer\u001b[39m.\u001b[39mstep()\n\u001b[1;32m     39\u001b[0m     \u001b[39mif\u001b[39;00m i \u001b[39m%\u001b[39m \u001b[39m1000\u001b[39m \u001b[39m==\u001b[39m \u001b[39m0\u001b[39m:\n\u001b[0;32m---> 40\u001b[0m         \u001b[39mprint\u001b[39m(\u001b[39m'\u001b[39m\u001b[39mloss:\u001b[39m\u001b[39m'\u001b[39m, loss\u001b[39m.\u001b[39;49mdata[\u001b[39m0\u001b[39;49m])\n\u001b[1;32m     42\u001b[0m \u001b[39m# test\u001b[39;00m\n\u001b[1;32m     43\u001b[0m \u001b[39mprint\u001b[39m(\u001b[39m'\u001b[39m\u001b[39m======Test======\u001b[39m\u001b[39m'\u001b[39m)\n",
      "\u001b[0;31mIndexError\u001b[0m: invalid index of a 0-dim tensor. Use `tensor.item()` in Python or `tensor.item<T>()` in C++ to convert a 0-dim tensor to a number"
     ]
    }
   ],
   "source": [
    "import random\n",
    "import torch\n",
    "import torch.nn as nn\n",
    "from torch.autograd import Variable\n",
    "from torch import optim\n",
    "import torch.nn.functional as F\n",
    "\n",
    "seq_len = 10\n",
    "n_class = 5\n",
    "class SimpleNet(nn.Module):\n",
    "    def __init__(self):\n",
    "        super(SimpleNet, self).__init__()\n",
    "        self.W = nn.Parameter(torch.randn(seq_len, n_class), requires_grad=True)\n",
    "        \n",
    "    def forward(self, x):\n",
    "        x = torch.matmul(x, self.W)\n",
    "        x = F.relu(x)\n",
    "        x = F.log_softmax(x)\n",
    "        return x\n",
    "\n",
    "model = SimpleNet()\n",
    "print('parameters----------')\n",
    "for parameter in model.parameters():\n",
    "    print(\"hello\")\n",
    "    print(parameter)\n",
    "    print(\"hello\")\n",
    "\n",
    "optimizer = optim.SGD(model.parameters(), lr=0.001, momentum=0.0001)\n",
    "loss_fn = nn.NLLLoss()\n",
    "for i in range(10000):\n",
    "    in_data = Variable(torch.FloatTensor([[random.randint(0, n_class-1) for _ in range(seq_len)]]))\n",
    "    target_data = Variable(torch.LongTensor([ int(in_data.data[0][0]) ]))\n",
    "    \n",
    "    optimizer.zero_grad()\n",
    "    output = model(in_data)\n",
    "    loss = loss_fn(output, target_data)\n",
    "    loss.backward()\n",
    "    optimizer.step()\n",
    "    if i % 1000 == 0:\n",
    "        print('loss:', loss.data[0])\n",
    "    \n",
    "# test\n",
    "print('======Test======')\n",
    "for i in range(10):\n",
    "    in_data = Variable(torch.FloatTensor([[random.randint(0, n_class-1) for _ in range(seq_len)]]))\n",
    "    target_data = int(in_data.data[0][0])\n",
    "    out = model(in_data)\n",
    "    _, ind = torch.max(out.data[0], 0)\n",
    "    print(ind[0] == target_data, 'out', ind[0], 'label', target_data)\n",
    "\n",
    "print('after parameters')\n",
    "print(next(model.parameters()))"
   ]
  },
  {
   "cell_type": "code",
   "execution_count": 3,
   "metadata": {},
   "outputs": [
    {
     "data": {
      "text/plain": [
       "(15, 10000, 256)"
      ]
     },
     "execution_count": 3,
     "metadata": {},
     "output_type": "execute_result"
    }
   ],
   "source": [
    "import numpy as np\n",
    "data = np.load(\"Data/KS/ks_N256_dt0.001_L6.npy\")\n",
    "data = data[:15,::100,:]\n",
    "data.shape"
   ]
  },
  {
   "cell_type": "code",
   "execution_count": 4,
   "metadata": {},
   "outputs": [],
   "source": [
    "np.save(\"Data/KS/ks_N256_dt0.001_L6_short.npy\", data)"
   ]
  },
  {
   "cell_type": "code",
   "execution_count": null,
   "metadata": {},
   "outputs": [],
   "source": []
  }
 ],
 "metadata": {
  "kernelspec": {
   "display_name": "KS",
   "language": "python",
   "name": "python3"
  },
  "language_info": {
   "codemirror_mode": {
    "name": "ipython",
    "version": 3
   },
   "file_extension": ".py",
   "mimetype": "text/x-python",
   "name": "python",
   "nbconvert_exporter": "python",
   "pygments_lexer": "ipython3",
   "version": "3.10.9"
  },
  "orig_nbformat": 4
 },
 "nbformat": 4,
 "nbformat_minor": 2
}
