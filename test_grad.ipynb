{
 "cells": [
  {
   "cell_type": "code",
   "execution_count": 1,
   "metadata": {},
   "outputs": [],
   "source": [
    "import torch\n",
    "import numpy as np\n",
    "import matplotlib.pyplot as plt\n",
    "# from torch.utils.data import Dataset, DataLoader\n",
    "# from utils.PreProc_Data.DataProc_TM2 import StackedSequenceDataset\n",
    "# import numpy as np\n",
    "# import MZA_Experiment\n",
    "# from MZA_Experiment import MZA_Experiment"
   ]
  },
  {
   "cell_type": "code",
   "execution_count": 2,
   "metadata": {},
   "outputs": [],
   "source": [
    "if torch.cuda.is_available():\n",
    "    device = torch.device(\"cuda\")\n",
    "elif torch.backends.mps.is_available():\n",
    "    device = torch.device(\"mps\") \n",
    "else:\n",
    "    device = torch.device(\"cpu\")"
   ]
  },
  {
   "attachments": {},
   "cell_type": "markdown",
   "metadata": {},
   "source": [
    "Grad testing"
   ]
  },
  {
   "cell_type": "code",
   "execution_count": 3,
   "metadata": {},
   "outputs": [],
   "source": [
    "a = torch.tensor([2., 3.], requires_grad=True)\n",
    "b = torch.tensor([6., 4.], requires_grad=True)\n",
    "d = torch.tensor([5., 2.], requires_grad=True)"
   ]
  },
  {
   "cell_type": "code",
   "execution_count": 4,
   "metadata": {},
   "outputs": [],
   "source": [
    "Q = 3*a**3 - b**2\n",
    "c = Q*d\n",
    "Q.retain_grad()"
   ]
  },
  {
   "cell_type": "code",
   "execution_count": 5,
   "metadata": {},
   "outputs": [],
   "source": [
    "external_grad = torch.tensor([1., 1.])\n",
    "\n",
    "c.backward(gradient=external_grad, retain_graph= True)"
   ]
  },
  {
   "cell_type": "code",
   "execution_count": 6,
   "metadata": {},
   "outputs": [
    {
     "data": {
      "text/plain": [
       "tensor([5., 2.])"
      ]
     },
     "execution_count": 6,
     "metadata": {},
     "output_type": "execute_result"
    }
   ],
   "source": [
    "Q.grad"
   ]
  },
  {
   "cell_type": "code",
   "execution_count": 25,
   "metadata": {},
   "outputs": [
    {
     "name": "stdout",
     "output_type": "stream",
     "text": [
      "tensor([180., 162.])\n",
      "tensor([-60., -16.])\n"
     ]
    }
   ],
   "source": [
    "Q.grad = None\n",
    "a.grad = None\n",
    "b.grad = None\n",
    "c.backward(gradient=external_grad,retain_graph = True)\n",
    "\n",
    "print(a.grad)\n",
    "print(b.grad)"
   ]
  },
  {
   "cell_type": "code",
   "execution_count": 8,
   "metadata": {},
   "outputs": [
    {
     "name": "stdout",
     "output_type": "stream",
     "text": [
      "tensor([180., 162.])\n",
      "tensor([-60., -16.])\n"
     ]
    }
   ],
   "source": []
  },
  {
   "attachments": {},
   "cell_type": "markdown",
   "metadata": {},
   "source": [
    "DATA Testing"
   ]
  },
  {
   "cell_type": "code",
   "execution_count": 9,
   "metadata": {},
   "outputs": [
    {
     "data": {
      "text/plain": [
       "array([[1.38036094, 1.24559389],\n",
       "       [2.08566853, 1.70613543],\n",
       "       [2.21472545, 2.16769596],\n",
       "       [2.24136623, 1.51278402],\n",
       "       [1.86766098, 2.17728907],\n",
       "       [1.99159004, 2.08822817],\n",
       "       [1.94668843, 2.00360665],\n",
       "       [2.53154234, 2.63520368],\n",
       "       [1.90518438, 2.35854218],\n",
       "       [2.46656358, 2.53314358]])"
      ]
     },
     "execution_count": 9,
     "metadata": {},
     "output_type": "execute_result"
    }
   ],
   "source": [
    "x = np.linspace(1,2,10)[:,np.newaxis]\n",
    "\n",
    "mat = np.random.rand(10,2)\n",
    "v = mat + x\n",
    "v"
   ]
  },
  {
   "cell_type": "code",
   "execution_count": 65,
   "metadata": {},
   "outputs": [],
   "source": [
    "def omega(x, h):\n",
    "    return (x+h)**(0.5)"
   ]
  },
  {
   "cell_type": "code",
   "execution_count": 66,
   "metadata": {},
   "outputs": [
    {
     "name": "stdout",
     "output_type": "stream",
     "text": [
      "tensor([1.4270, 1.5199], dtype=torch.float64, grad_fn=<PowBackward0>)\n",
      "tensor([1.6490, 1.8816], dtype=torch.float64, grad_fn=<PowBackward0>)\n",
      "tensor([1.9378, 1.9254], dtype=torch.float64, grad_fn=<PowBackward0>)\n",
      "tensor([2.0392, 1.8417], dtype=torch.float64, grad_fn=<PowBackward0>)\n",
      "tensor([2.0294, 1.9109], dtype=torch.float64, grad_fn=<PowBackward0>)\n",
      "tensor([2.0746, 2.0094], dtype=torch.float64, grad_fn=<PowBackward0>)\n",
      "tensor([2.0601, 1.9832], dtype=torch.float64, grad_fn=<PowBackward0>)\n",
      "tensor([1.9889, 2.0438], dtype=torch.float64, grad_fn=<PowBackward0>)\n",
      "tensor([1.9867, 2.1574], dtype=torch.float64, grad_fn=<PowBackward0>)\n",
      "tensor([2.2103, 2.2287], dtype=torch.float64, grad_fn=<PowBackward0>)\n"
     ]
    }
   ],
   "source": [
    "inp = torch.tensor(v, requires_grad=True)\n",
    "\n",
    "out = torch.ones_like(inp[0])\n",
    "for i in range(0,inp.shape[0]):\n",
    "    out = omega(out,inp[i])\n",
    "    print(out)"
   ]
  },
  {
   "cell_type": "code",
   "execution_count": 67,
   "metadata": {},
   "outputs": [],
   "source": [
    "external_grad = torch.tensor([1., 1.])#torch.ones_like(inp))\n",
    "out.backward(gradient=external_grad)"
   ]
  },
  {
   "cell_type": "code",
   "execution_count": 68,
   "metadata": {},
   "outputs": [
    {
     "name": "stdout",
     "output_type": "stream",
     "text": [
      "torch.Size([10, 2])\n"
     ]
    },
    {
     "data": {
      "text/plain": [
       "tensor([[1.3864e-06, 1.2869e-06],\n",
       "        [3.9569e-06, 3.9120e-06],\n",
       "        [1.3050e-05, 1.4721e-05],\n",
       "        [5.0576e-05, 5.6687e-05],\n",
       "        [2.0626e-04, 2.0880e-04],\n",
       "        [8.3718e-04, 7.9798e-04],\n",
       "        [3.4735e-03, 3.2069e-03],\n",
       "        [1.4312e-02, 1.2720e-02],\n",
       "        [5.6930e-02, 5.1994e-02],\n",
       "        [2.2621e-01, 2.2435e-01]], dtype=torch.float64)"
      ]
     },
     "execution_count": 68,
     "metadata": {},
     "output_type": "execute_result"
    }
   ],
   "source": [
    "print(inp.grad.shape)\n",
    "inp.grad"
   ]
  },
  {
   "cell_type": "code",
   "execution_count": 69,
   "metadata": {},
   "outputs": [
    {
     "data": {
      "text/plain": [
       "[<matplotlib.lines.Line2D at 0x2298e651af0>]"
      ]
     },
     "execution_count": 69,
     "metadata": {},
     "output_type": "execute_result"
    },
    {
     "data": {
      "image/png": "[encoded data removed]",
      "text/plain": [
       "<Figure size 432x288 with 1 Axes>"
      ]
     },
     "metadata": {
      "needs_background": "light"
     },
     "output_type": "display_data"
    }
   ],
   "source": [
    "n = torch.norm(inp.grad, dim = -1)\n",
    "\n",
    "plt.plot(n)"
   ]
  },
  {
   "cell_type": "code",
   "execution_count": null,
   "metadata": {},
   "outputs": [],
   "source": []
  }
 ],
 "metadata": {
  "kernelspec": {
   "display_name": "KS",
   "language": "python",
   "name": "python3"
  },
  "language_info": {
   "codemirror_mode": {
    "name": "ipython",
    "version": 3
   },
   "file_extension": ".py",
   "mimetype": "text/x-python",
   "name": "python",
   "nbconvert_exporter": "python",
   "pygments_lexer": "ipython3",
   "version": "3.9.12"
  },
  "orig_nbformat": 4
 },
 "nbformat": 4,
 "nbformat_minor": 2
}
